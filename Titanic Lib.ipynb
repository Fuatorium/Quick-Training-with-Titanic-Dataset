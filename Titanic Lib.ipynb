{
 "cells": [
  {
   "cell_type": "code",
   "execution_count": 1,
   "id": "df4dfa85",
   "metadata": {},
   "outputs": [],
   "source": [
    "import seaborn as sns\n",
    "titanic_data = sns.load_dataset(\"titanic\")"
   ]
  },
  {
   "cell_type": "code",
   "execution_count": 2,
   "id": "dfecef86",
   "metadata": {},
   "outputs": [
    {
     "name": "stdout",
     "output_type": "stream",
     "text": [
      "Kadın yolcu sayısı: 314\n",
      "Erkek yolcu sayısı: 577\n"
     ]
    }
   ],
   "source": [
    "female_passengers = titanic_data[titanic_data[\"sex\"] == \"female\"].shape[0]\n",
    "male_passengers = titanic_data[titanic_data[\"sex\"] == \"male\"].shape[0]\n",
    "\n",
    "print(\"Kadın yolcu sayısı:\", female_passengers)\n",
    "print(\"Erkek yolcu sayısı:\", male_passengers)"
   ]
  },
  {
   "cell_type": "code",
   "execution_count": 3,
   "id": "989f8936",
   "metadata": {},
   "outputs": [
    {
     "name": "stdout",
     "output_type": "stream",
     "text": [
      "survived         2\n",
      "pclass           3\n",
      "sex              2\n",
      "age             88\n",
      "sibsp            7\n",
      "parch            7\n",
      "fare           248\n",
      "embarked         3\n",
      "class            3\n",
      "who              3\n",
      "adult_male       2\n",
      "deck             7\n",
      "embark_town      3\n",
      "alive            2\n",
      "alone            2\n",
      "dtype: int64\n"
     ]
    }
   ],
   "source": [
    "unique_counts = titanic_data.nunique()\n",
    "\n",
    "print(unique_counts)"
   ]
  },
  {
   "cell_type": "code",
   "execution_count": 4,
   "id": "2cde3f74",
   "metadata": {},
   "outputs": [
    {
     "name": "stdout",
     "output_type": "stream",
     "text": [
      "pclass değişkeninin unique değer sayısı: 3\n"
     ]
    }
   ],
   "source": [
    "unique_pclass_counts = titanic_data[\"pclass\"].nunique()\n",
    "\n",
    "print(\"pclass değişkeninin unique değer sayısı:\", unique_pclass_counts)"
   ]
  },
  {
   "cell_type": "code",
   "execution_count": 5,
   "id": "455c4017",
   "metadata": {},
   "outputs": [
    {
     "name": "stdout",
     "output_type": "stream",
     "text": [
      "pclass    3\n",
      "parch     7\n",
      "dtype: int64\n"
     ]
    }
   ],
   "source": [
    "unique_pclass_parch_counts = titanic_data[[\"pclass\", \"parch\"]].nunique()\n",
    "\n",
    "print(unique_pclass_parch_counts)"
   ]
  },
  {
   "cell_type": "code",
   "execution_count": 6,
   "id": "ba158aa9",
   "metadata": {},
   "outputs": [
    {
     "name": "stdout",
     "output_type": "stream",
     "text": [
      "embarked değişkeninin tipi: object\n",
      "embarked değişkeninin tipi (son hali): category\n"
     ]
    }
   ],
   "source": [
    "print(\"embarked değişkeninin tipi:\", titanic_data[\"embarked\"].dtype)\n",
    "titanic_data[\"embarked\"] = titanic_data[\"embarked\"].astype(\"category\")\n",
    "\n",
    "print(\"embarked değişkeninin tipi (son hali):\", titanic_data[\"embarked\"].dtype)"
   ]
  },
  {
   "cell_type": "code",
   "execution_count": 7,
   "id": "68a8c661",
   "metadata": {},
   "outputs": [
    {
     "name": "stdout",
     "output_type": "stream",
     "text": [
      "     survived  pclass     sex   age  sibsp  parch     fare embarked   class  \\\n",
      "1           1       1  female  38.0      1      0  71.2833        C   First   \n",
      "9           1       2  female  14.0      1      0  30.0708        C  Second   \n",
      "19          1       3  female   NaN      0      0   7.2250        C   Third   \n",
      "26          0       3    male   NaN      0      0   7.2250        C   Third   \n",
      "30          0       1    male  40.0      0      0  27.7208        C   First   \n",
      "..        ...     ...     ...   ...    ...    ...      ...      ...     ...   \n",
      "866         1       2  female  27.0      1      0  13.8583        C  Second   \n",
      "874         1       2  female  28.0      1      0  24.0000        C  Second   \n",
      "875         1       3  female  15.0      0      0   7.2250        C   Third   \n",
      "879         1       1  female  56.0      0      1  83.1583        C   First   \n",
      "889         1       1    male  26.0      0      0  30.0000        C   First   \n",
      "\n",
      "       who  adult_male deck embark_town alive  alone  \n",
      "1    woman       False    C   Cherbourg   yes  False  \n",
      "9    child       False  NaN   Cherbourg   yes  False  \n",
      "19   woman       False  NaN   Cherbourg   yes   True  \n",
      "26     man        True  NaN   Cherbourg    no   True  \n",
      "30     man        True  NaN   Cherbourg    no   True  \n",
      "..     ...         ...  ...         ...   ...    ...  \n",
      "866  woman       False  NaN   Cherbourg   yes  False  \n",
      "874  woman       False  NaN   Cherbourg   yes  False  \n",
      "875  child       False  NaN   Cherbourg   yes   True  \n",
      "879  woman       False    C   Cherbourg   yes  False  \n",
      "889    man        True    C   Cherbourg   yes   True  \n",
      "\n",
      "[168 rows x 15 columns]\n"
     ]
    }
   ],
   "source": [
    "embarked_C_passengers = titanic_data[titanic_data[\"embarked\"] == \"C\"]\n",
    "\n",
    "print(embarked_C_passengers)"
   ]
  },
  {
   "cell_type": "code",
   "execution_count": 8,
   "id": "3e8e03c7",
   "metadata": {},
   "outputs": [
    {
     "name": "stdout",
     "output_type": "stream",
     "text": [
      "     survived  pclass     sex   age  sibsp  parch     fare embarked   class  \\\n",
      "1           1       1  female  38.0      1      0  71.2833        C   First   \n",
      "5           0       3    male   NaN      0      0   8.4583        Q   Third   \n",
      "9           1       2  female  14.0      1      0  30.0708        C  Second   \n",
      "16          0       3    male   2.0      4      1  29.1250        Q   Third   \n",
      "19          1       3  female   NaN      0      0   7.2250        C   Third   \n",
      "..        ...     ...     ...   ...    ...    ...      ...      ...     ...   \n",
      "875         1       3  female  15.0      0      0   7.2250        C   Third   \n",
      "879         1       1  female  56.0      0      1  83.1583        C   First   \n",
      "885         0       3  female  39.0      0      5  29.1250        Q   Third   \n",
      "889         1       1    male  26.0      0      0  30.0000        C   First   \n",
      "890         0       3    male  32.0      0      0   7.7500        Q   Third   \n",
      "\n",
      "       who  adult_male deck embark_town alive  alone  \n",
      "1    woman       False    C   Cherbourg   yes  False  \n",
      "5      man        True  NaN  Queenstown    no   True  \n",
      "9    child       False  NaN   Cherbourg   yes  False  \n",
      "16   child       False  NaN  Queenstown    no  False  \n",
      "19   woman       False  NaN   Cherbourg   yes   True  \n",
      "..     ...         ...  ...         ...   ...    ...  \n",
      "875  child       False  NaN   Cherbourg   yes   True  \n",
      "879  woman       False    C   Cherbourg   yes  False  \n",
      "885  woman       False  NaN  Queenstown    no  False  \n",
      "889    man        True    C   Cherbourg   yes   True  \n",
      "890    man        True  NaN  Queenstown    no   True  \n",
      "\n",
      "[247 rows x 15 columns]\n"
     ]
    }
   ],
   "source": [
    "embarked_not_S_passengers = titanic_data[titanic_data[\"embarked\"] != \"S\"]\n",
    "\n",
    "print(embarked_not_S_passengers)"
   ]
  },
  {
   "cell_type": "code",
   "execution_count": 9,
   "id": "bef3e817",
   "metadata": {},
   "outputs": [
    {
     "name": "stdout",
     "output_type": "stream",
     "text": [
      "     survived  pclass     sex   age  sibsp  parch     fare embarked   class  \\\n",
      "2           1       3  female  26.0      0      0   7.9250        S   Third   \n",
      "8           1       3  female  27.0      0      2  11.1333        S   Third   \n",
      "9           1       2  female  14.0      1      0  30.0708        C  Second   \n",
      "10          1       3  female   4.0      1      1  16.7000        S   Third   \n",
      "14          0       3  female  14.0      0      0   7.8542        S   Third   \n",
      "..        ...     ...     ...   ...    ...    ...      ...      ...     ...   \n",
      "874         1       2  female  28.0      1      0  24.0000        C  Second   \n",
      "875         1       3  female  15.0      0      0   7.2250        C   Third   \n",
      "880         1       2  female  25.0      0      1  26.0000        S  Second   \n",
      "882         0       3  female  22.0      0      0  10.5167        S   Third   \n",
      "887         1       1  female  19.0      0      0  30.0000        S   First   \n",
      "\n",
      "       who  adult_male deck  embark_town alive  alone  \n",
      "2    woman       False  NaN  Southampton   yes   True  \n",
      "8    woman       False  NaN  Southampton   yes  False  \n",
      "9    child       False  NaN    Cherbourg   yes  False  \n",
      "10   child       False    G  Southampton   yes  False  \n",
      "14   child       False  NaN  Southampton    no   True  \n",
      "..     ...         ...  ...          ...   ...    ...  \n",
      "874  woman       False  NaN    Cherbourg   yes  False  \n",
      "875  child       False  NaN    Cherbourg   yes   True  \n",
      "880  woman       False  NaN  Southampton   yes  False  \n",
      "882  woman       False  NaN  Southampton    no   True  \n",
      "887  woman       False    B  Southampton   yes   True  \n",
      "\n",
      "[147 rows x 15 columns]\n"
     ]
    }
   ],
   "source": [
    "young_female_passengers = titanic_data[(titanic_data[\"age\"] < 30) & (titanic_data[\"sex\"] == \"female\")]\n",
    "\n",
    "print(young_female_passengers)"
   ]
  },
  {
   "cell_type": "code",
   "execution_count": 10,
   "id": "e8a4e0af",
   "metadata": {},
   "outputs": [
    {
     "name": "stdout",
     "output_type": "stream",
     "text": [
      "Empty DataFrame\n",
      "Columns: [survived, pclass, sex, age, sibsp, parch, fare, embarked, class, who, adult_male, deck, embark_town, alive, alone]\n",
      "Index: []\n"
     ]
    }
   ],
   "source": [
    "high_fare_and_old_age_passengers = titanic_data[(titanic_data[\"fare\"] > 500) & (titanic_data[\"age\"] > 70)]\n",
    "\n",
    "print(high_fare_and_old_age_passengers)"
   ]
  },
  {
   "cell_type": "code",
   "execution_count": 11,
   "id": "1274d146",
   "metadata": {},
   "outputs": [
    {
     "name": "stdout",
     "output_type": "stream",
     "text": [
      "survived         0\n",
      "pclass           0\n",
      "sex              0\n",
      "age            177\n",
      "sibsp            0\n",
      "parch            0\n",
      "fare             0\n",
      "embarked         2\n",
      "class            0\n",
      "who              0\n",
      "adult_male       0\n",
      "deck           688\n",
      "embark_town      2\n",
      "alive            0\n",
      "alone            0\n",
      "dtype: int64\n"
     ]
    }
   ],
   "source": [
    "missing_values_total = titanic_data.isnull().sum()\n",
    "\n",
    "print(missing_values_total)"
   ]
  },
  {
   "cell_type": "code",
   "execution_count": 12,
   "id": "325b6a68",
   "metadata": {},
   "outputs": [],
   "source": [
    "titanic_data = titanic_data.drop(columns=[\"who\"])"
   ]
  },
  {
   "cell_type": "code",
   "execution_count": 13,
   "id": "34f6b699",
   "metadata": {},
   "outputs": [],
   "source": [
    "deck_mode = titanic_data[\"deck\"].mode()[0]\n",
    "titanic_data[\"deck\"].fillna(deck_mode, inplace=True)"
   ]
  },
  {
   "cell_type": "code",
   "execution_count": 14,
   "id": "36c3aac0",
   "metadata": {},
   "outputs": [],
   "source": [
    "age_median = titanic_data[\"age\"].median()\n",
    "titanic_data[\"age\"].fillna(age_median, inplace=True)"
   ]
  },
  {
   "cell_type": "code",
   "execution_count": 15,
   "id": "a99b5266",
   "metadata": {},
   "outputs": [
    {
     "name": "stdout",
     "output_type": "stream",
     "text": [
      "               sum  count      mean\n",
      "pclass sex                         \n",
      "1      female   91     94  0.968085\n",
      "       male     45    122  0.368852\n",
      "2      female   70     76  0.921053\n",
      "       male     17    108  0.157407\n",
      "3      female   72    144  0.500000\n",
      "       male     47    347  0.135447\n"
     ]
    }
   ],
   "source": [
    "survived_stats = titanic_data.groupby([\"pclass\", \"sex\"])[\"survived\"].agg([\"sum\", \"count\", \"mean\"])\n",
    "\n",
    "print(survived_stats)"
   ]
  },
  {
   "cell_type": "code",
   "execution_count": 16,
   "id": "1c665fa1",
   "metadata": {},
   "outputs": [],
   "source": [
    "def age_flag(row):\n",
    "    return 1 if row[\"age\"] < 30 else 0\n",
    "\n",
    "titanic_data[\"age_flag\"] = titanic_data.apply(age_flag, axis=1)"
   ]
  },
  {
   "cell_type": "code",
   "execution_count": 17,
   "id": "f24a9ab7",
   "metadata": {},
   "outputs": [],
   "source": [
    "import seaborn as sns\n",
    "tips_data = sns.load_dataset(\"tips\")"
   ]
  },
  {
   "cell_type": "code",
   "execution_count": 18,
   "id": "34e378ba",
   "metadata": {},
   "outputs": [
    {
     "name": "stdout",
     "output_type": "stream",
     "text": [
      "            sum   min    max       mean\n",
      "time                                   \n",
      "Lunch   1167.47  7.51  43.11  17.168676\n",
      "Dinner  3660.30  3.07  50.81  20.797159\n"
     ]
    }
   ],
   "source": [
    "total_bill_stats_by_time = tips_data.groupby(\"time\")[\"total_bill\"].agg([\"sum\", \"min\", \"max\", \"mean\"])\n",
    "\n",
    "print(total_bill_stats_by_time)"
   ]
  },
  {
   "cell_type": "code",
   "execution_count": 19,
   "id": "efa772dd",
   "metadata": {},
   "outputs": [
    {
     "name": "stdout",
     "output_type": "stream",
     "text": [
      "                 sum    min    max       mean\n",
      "day  time                                    \n",
      "Thur Lunch   1077.55   7.51  43.11  17.664754\n",
      "     Dinner    18.78  18.78  18.78  18.780000\n",
      "Fri  Lunch     89.92   8.58  16.27  12.845714\n",
      "     Dinner   235.96   5.75  40.17  19.663333\n",
      "Sat  Lunch      0.00    NaN    NaN        NaN\n",
      "     Dinner  1778.40   3.07  50.81  20.441379\n",
      "Sun  Lunch      0.00    NaN    NaN        NaN\n",
      "     Dinner  1627.16   7.25  48.17  21.410000\n"
     ]
    }
   ],
   "source": [
    "total_bill_stats_by_day_time = tips_data.groupby([\"day\", \"time\"])[\"total_bill\"].agg([\"sum\", \"min\", \"max\", \"mean\"])\n",
    "\n",
    "print(total_bill_stats_by_day_time)"
   ]
  },
  {
   "cell_type": "code",
   "execution_count": 20,
   "id": "f74521c4",
   "metadata": {},
   "outputs": [
    {
     "name": "stdout",
     "output_type": "stream",
     "text": [
      "     total_bill                            tip                      \n",
      "            sum    min    max      mean    sum   min   max      mean\n",
      "day                                                                 \n",
      "Thur     516.11   8.35  43.11  16.64871  79.42  1.25  5.17  2.561935\n",
      "Fri       55.76  10.09  16.27  13.94000  10.98  2.00  3.48  2.745000\n",
      "Sat        0.00    NaN    NaN       NaN   0.00   NaN   NaN       NaN\n",
      "Sun        0.00    NaN    NaN       NaN   0.00   NaN   NaN       NaN\n"
     ]
    }
   ],
   "source": [
    "lunch_female_stats = tips_data[(tips_data[\"time\"] == \"Lunch\") & (tips_data[\"sex\"] == \"Female\")].groupby(\"day\")[[\"total_bill\", \"tip\"]].agg([\"sum\", \"min\", \"max\", \"mean\"])\n",
    "\n",
    "print(lunch_female_stats)"
   ]
  },
  {
   "cell_type": "code",
   "execution_count": 21,
   "id": "a47b6dad",
   "metadata": {},
   "outputs": [
    {
     "name": "stdout",
     "output_type": "stream",
     "text": [
      "Ortalama total_bill değeri: 17.184965034965035\n"
     ]
    }
   ],
   "source": [
    "filtered_orders = tips_data[(tips_data[\"size\"] < 3) & (tips_data[\"total_bill\"] > 10)]\n",
    "average_total_bill_filtered = filtered_orders[\"total_bill\"].mean()\n",
    "\n",
    "print(\"Ortalama total_bill değeri:\", average_total_bill_filtered)"
   ]
  },
  {
   "cell_type": "code",
   "execution_count": 22,
   "id": "4c8abc87",
   "metadata": {},
   "outputs": [],
   "source": [
    "tips_data[\"total_bill_tip_sum\"] = tips_data[\"total_bill\"] + tips_data[\"tip\"]"
   ]
  },
  {
   "cell_type": "code",
   "execution_count": 23,
   "id": "ee1a48e9",
   "metadata": {},
   "outputs": [
    {
     "name": "stdout",
     "output_type": "stream",
     "text": [
      "     total_bill    tip     sex smoker   day    time  size  total_bill_tip_sum\n",
      "170       50.81  10.00    Male    Yes   Sat  Dinner     3               60.81\n",
      "212       48.33   9.00    Male     No   Sat  Dinner     4               57.33\n",
      "59        48.27   6.73    Male     No   Sat  Dinner     4               55.00\n",
      "156       48.17   5.00    Male     No   Sun  Dinner     6               53.17\n",
      "182       45.35   3.50    Male    Yes   Sun  Dinner     3               48.85\n",
      "197       43.11   5.00  Female    Yes  Thur   Lunch     4               48.11\n",
      "23        39.42   7.58    Male     No   Sat  Dinner     4               47.00\n",
      "102       44.30   2.50  Female    Yes   Sat  Dinner     3               46.80\n",
      "142       41.19   5.00    Male     No  Thur   Lunch     5               46.19\n",
      "95        40.17   4.73    Male    Yes   Fri  Dinner     4               44.90\n",
      "184       40.55   3.00    Male    Yes   Sun  Dinner     2               43.55\n",
      "112       38.07   4.00    Male     No   Sun  Dinner     3               42.07\n",
      "207       38.73   3.00    Male    Yes   Sat  Dinner     4               41.73\n",
      "56        38.01   3.00    Male    Yes   Sat  Dinner     4               41.01\n",
      "141       34.30   6.70    Male     No  Thur   Lunch     6               41.00\n",
      "238       35.83   4.67  Female     No   Sat  Dinner     3               40.50\n",
      "11        35.26   5.00  Female     No   Sun  Dinner     4               40.26\n",
      "52        34.81   5.20  Female     No   Sun  Dinner     4               40.01\n",
      "85        34.83   5.17  Female     No  Thur   Lunch     4               40.00\n",
      "47        32.40   6.00    Male     No   Sun  Dinner     4               38.40\n",
      "180       34.65   3.68    Male    Yes   Sun  Dinner     4               38.33\n",
      "179       34.63   3.55    Male    Yes   Sun  Dinner     2               38.18\n",
      "83        32.68   5.00    Male    Yes  Thur   Lunch     2               37.68\n",
      "39        31.27   5.00    Male     No   Sat  Dinner     3               36.27\n",
      "167       31.71   4.50    Male     No   Sun  Dinner     4               36.21\n",
      "175       32.90   3.11    Male    Yes   Sun  Dinner     2               36.01\n",
      "44        30.40   5.60    Male     No   Sun  Dinner     4               36.00\n",
      "173       31.85   3.18    Male    Yes   Sun  Dinner     2               35.03\n",
      "116       29.93   5.07    Male     No   Sun  Dinner     4               35.00\n",
      "155       29.85   5.14  Female     No   Sun  Dinner     5               34.99\n"
     ]
    }
   ],
   "source": [
    "top_30_customers = tips_data.sort_values(by=\"total_bill_tip_sum\", ascending=False).head(30)\n",
    "\n",
    "print(top_30_customers)"
   ]
  },
  {
   "cell_type": "code",
   "execution_count": null,
   "id": "3ca1823f",
   "metadata": {},
   "outputs": [],
   "source": []
  }
 ],
 "metadata": {
  "kernelspec": {
   "display_name": "Python 3 (ipykernel)",
   "language": "python",
   "name": "python3"
  },
  "language_info": {
   "codemirror_mode": {
    "name": "ipython",
    "version": 3
   },
   "file_extension": ".py",
   "mimetype": "text/x-python",
   "name": "python",
   "nbconvert_exporter": "python",
   "pygments_lexer": "ipython3",
   "version": "3.10.9"
  }
 },
 "nbformat": 4,
 "nbformat_minor": 5
}
